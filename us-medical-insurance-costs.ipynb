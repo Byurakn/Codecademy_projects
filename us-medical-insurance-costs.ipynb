{
 "cells": [
  {
   "cell_type": "markdown",
   "metadata": {},
   "source": [
    "# U.S. Medical Insurance Costs"
   ]
  },
  {
   "cell_type": "code",
   "execution_count": 62,
   "metadata": {},
   "outputs": [
    {
     "name": "stdout",
     "output_type": "stream",
     "text": [
      "The mean age of the insured people is 39.21 years.\n",
      "The mean insurance cost is 13270.42 dollars, ranging between 1121.87 and 63770.43 dollars.\n",
      "32050.23\n",
      "Smokers are charged on average 23615.96 dollars more than non-smokers.\n",
      "There are in total 662 women and 676 men insured.\n",
      "On average, men have higher insurance costs. The mean insurance cost for men is 13956.75 dollars and for women it is 12569.58 dollars.\n"
     ]
    }
   ],
   "source": [
    "import csv\n",
    "insurance_data = {'age':[], 'sex':[], 'bmi':[], 'children':[], 'smoker':[], 'region':[], 'charges': []}\n",
    "with open(\"insurance.csv\", newline = '') as insurance:\n",
    "    insurance_dict = csv.DictReader(insurance)\n",
    "    for row in insurance_dict:\n",
    "        for key in row.keys():\n",
    "            insurance_data[key].append(row[key])\n",
    "            \n",
    "    # mean calculator to generally use for the project. the code rounds up the final value to two decimals\n",
    "    def mean_calculator(data):\n",
    "        sum_of_data = 0\n",
    "        for value in data:\n",
    "            sum_of_data += float(value)\n",
    "        mean_val =  round(sum_of_data/len(data), 2)\n",
    "        return mean_val\n",
    "    \n",
    "    # calculate the mean age\n",
    "    def mean_age_calculator(data):\n",
    "        mean_age = mean_calculator(data)\n",
    "        print(\"The mean age of the insured people is {} years.\".format(str(mean_age)))\n",
    "\n",
    "    \n",
    "    # mean, max and min charges calculator\n",
    "    def mean_charges_calculator(charges):\n",
    "        min_charges = 9999999999999999\n",
    "        max_charges = 0\n",
    "        for dollar in charges:\n",
    "            if float(dollar) > max_charges:\n",
    "                max_charges = float(dollar)\n",
    "            if float(dollar) < min_charges:\n",
    "                min_charges = float(dollar)\n",
    "        mean_charges = mean_calculator(charges)\n",
    "        print(\"The mean insurance cost is {} dollars, ranging between {} and {} dollars.\".format(str(mean_charges), str(round(min_charges, 2)), str(round(max_charges, 2))))\n",
    "   \n",
    "  \n",
    "    # check the mean difference between smokers and non-smokers insurance rate\n",
    "    def smoker_mean_rate(smoker_data, charges_data):\n",
    "        smoker_charges = []\n",
    "        non_smoker_charges = []\n",
    "        for smoker in range(len(smoker_data)):\n",
    "            if smoker_data[smoker] == 'yes':\n",
    "                smoker_charges.append(float(charges_data[smoker]))\n",
    "            else:\n",
    "                non_smoker_charges.append(float(charges_data[smoker]))\n",
    "        smoker_mean = mean_calculator(smoker_charges)\n",
    "        print(smoker_mean)\n",
    "        non_smoker_mean = mean_calculator(non_smoker_charges)\n",
    "        difference = round(smoker_mean - non_smoker_mean, 2)\n",
    "        print(\"Smokers are charged on average {} dollars more than non-smokers.\".format(str(difference)))\n",
    "\n",
    "        \n",
    "    # let's see if more women than men are insured, and how does gender affect mean insurance\n",
    "    def male_female(sex_data, charges_data):\n",
    "        male_charges = []\n",
    "        female_charges = []\n",
    "        female_counter = 0\n",
    "        for human in range(len(sex_data)):\n",
    "            if sex_data[human] == 'female':\n",
    "                female_charges.append(float(charges_data[human]))\n",
    "                female_counter +=1\n",
    "            else:\n",
    "                male_charges.append(float(charges_data[human]))\n",
    "        males = len(sex_data) - female_counter\n",
    "        mean_male = mean_calculator(male_charges)\n",
    "        mean_female = mean_calculator(female_charges)\n",
    "        print (\"There are in total {} women and {} men insured.\".format(str(female_counter), str(males)))\n",
    "        if mean_male > mean_female:\n",
    "            print(\"On average, men have higher insurance costs. The mean insurance cost for men is {} dollars and for women it is {} dollars.\".format(str(mean_male), str(mean_female)))\n",
    "        else:\n",
    "            print(\"On average, women have higher insurance costs. The mean insurance cost for women is {} dollars and for men it is {} dollars..\".format(str(mean_female), str(mean_male)))\n",
    "    \n",
    "    \n",
    "    # run the functions here\n",
    "    mean_age_calculator(insurance_data['age'])\n",
    "    mean_charges_calculator(insurance_data['charges'])\n",
    "    smoker_mean_rate(insurance_data['smoker'], insurance_data['charges'])\n",
    "    male_female(insurance_data['sex'], insurance_data['charges'])\n",
    "        "
   ]
  },
  {
   "cell_type": "code",
   "execution_count": null,
   "metadata": {},
   "outputs": [],
   "source": []
  }
 ],
 "metadata": {
  "kernelspec": {
   "display_name": "Python 3",
   "language": "python",
   "name": "python3"
  },
  "language_info": {
   "codemirror_mode": {
    "name": "ipython",
    "version": 3
   },
   "file_extension": ".py",
   "mimetype": "text/x-python",
   "name": "python",
   "nbconvert_exporter": "python",
   "pygments_lexer": "ipython3",
   "version": "3.9.1"
  }
 },
 "nbformat": 4,
 "nbformat_minor": 4
}
